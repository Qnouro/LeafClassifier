{
 "cells": [
  {
   "cell_type": "code",
   "execution_count": 1,
   "metadata": {},
   "outputs": [],
   "source": [
    "import pandas as pd\n",
    "import numpy as np\n",
    "import cv2\n",
    "import matplotlib.pyplot as plt\n",
    "from PIL import Image, ImageOps \n",
    "import matplotlib.image"
   ]
  },
  {
   "cell_type": "markdown",
   "metadata": {},
   "source": [
    "# Importing the dataframe"
   ]
  },
  {
   "cell_type": "code",
   "execution_count": 2,
   "metadata": {},
   "outputs": [],
   "source": [
    "#reading the csv\n",
    "df = pd.read_csv(\"C:/Users/Qnouro/Desktop/Programming/Scrapper/leavesDatabase/leaf.csv\", \n",
    "                  names = [\"image array\", \"type 1\", \"type2\"])"
   ]
  },
  {
   "cell_type": "code",
   "execution_count": 3,
   "metadata": {},
   "outputs": [
    {
     "data": {
      "text/html": [
       "<div>\n",
       "<style scoped>\n",
       "    .dataframe tbody tr th:only-of-type {\n",
       "        vertical-align: middle;\n",
       "    }\n",
       "\n",
       "    .dataframe tbody tr th {\n",
       "        vertical-align: top;\n",
       "    }\n",
       "\n",
       "    .dataframe thead th {\n",
       "        text-align: right;\n",
       "    }\n",
       "</style>\n",
       "<table border=\"1\" class=\"dataframe\">\n",
       "  <thead>\n",
       "    <tr style=\"text-align: right;\">\n",
       "      <th></th>\n",
       "      <th>image array</th>\n",
       "      <th>type 1</th>\n",
       "      <th>type2</th>\n",
       "    </tr>\n",
       "  </thead>\n",
       "  <tbody>\n",
       "    <tr>\n",
       "      <th>0</th>\n",
       "      <td>[[[132 124 113]\\r\\n  [132 124 113]\\r\\n  [133 1...</td>\n",
       "      <td>salicaceae</td>\n",
       "      <td>salix</td>\n",
       "    </tr>\n",
       "    <tr>\n",
       "      <th>1</th>\n",
       "      <td>[[[177 168 159]\\r\\n  [182 173 164]\\r\\n  [184 1...</td>\n",
       "      <td>tiliaceae</td>\n",
       "      <td>heliocarpus</td>\n",
       "    </tr>\n",
       "    <tr>\n",
       "      <th>2</th>\n",
       "      <td>[[[255 255 255]\\r\\n  [255 255 255]\\r\\n  [255 2...</td>\n",
       "      <td>alangiaceae</td>\n",
       "      <td>alangium</td>\n",
       "    </tr>\n",
       "    <tr>\n",
       "      <th>3</th>\n",
       "      <td>[[[176 169 161]\\r\\n  [180 173 165]\\r\\n  [181 1...</td>\n",
       "      <td>tiliaceae</td>\n",
       "      <td>grewia</td>\n",
       "    </tr>\n",
       "    <tr>\n",
       "      <th>4</th>\n",
       "      <td>[[[152 142 130]\\r\\n  [152 142 130]\\r\\n  [152 1...</td>\n",
       "      <td>rubiaceae</td>\n",
       "      <td>hymenopogon</td>\n",
       "    </tr>\n",
       "  </tbody>\n",
       "</table>\n",
       "</div>"
      ],
      "text/plain": [
       "                                         image array       type 1        type2\n",
       "0  [[[132 124 113]\\r\\n  [132 124 113]\\r\\n  [133 1...   salicaceae        salix\n",
       "1  [[[177 168 159]\\r\\n  [182 173 164]\\r\\n  [184 1...    tiliaceae  heliocarpus\n",
       "2  [[[255 255 255]\\r\\n  [255 255 255]\\r\\n  [255 2...  alangiaceae     alangium\n",
       "3  [[[176 169 161]\\r\\n  [180 173 165]\\r\\n  [181 1...    tiliaceae       grewia\n",
       "4  [[[152 142 130]\\r\\n  [152 142 130]\\r\\n  [152 1...    rubiaceae  hymenopogon"
      ]
     },
     "execution_count": 3,
     "metadata": {},
     "output_type": "execute_result"
    }
   ],
   "source": [
    "df.head()"
   ]
  },
  {
   "cell_type": "raw",
   "metadata": {},
   "source": [
    "We can see that the img arrays stored in the csv file were converted to string and hardly useful. Thankfully, we also have the images in the right order.\n",
    "Let's get rid of the arrays column."
   ]
  },
  {
   "cell_type": "code",
   "execution_count": 4,
   "metadata": {},
   "outputs": [
    {
     "data": {
      "text/html": [
       "<div>\n",
       "<style scoped>\n",
       "    .dataframe tbody tr th:only-of-type {\n",
       "        vertical-align: middle;\n",
       "    }\n",
       "\n",
       "    .dataframe tbody tr th {\n",
       "        vertical-align: top;\n",
       "    }\n",
       "\n",
       "    .dataframe thead th {\n",
       "        text-align: right;\n",
       "    }\n",
       "</style>\n",
       "<table border=\"1\" class=\"dataframe\">\n",
       "  <thead>\n",
       "    <tr style=\"text-align: right;\">\n",
       "      <th></th>\n",
       "      <th>type 1</th>\n",
       "      <th>type2</th>\n",
       "    </tr>\n",
       "  </thead>\n",
       "  <tbody>\n",
       "    <tr>\n",
       "      <th>0</th>\n",
       "      <td>salicaceae</td>\n",
       "      <td>salix</td>\n",
       "    </tr>\n",
       "    <tr>\n",
       "      <th>1</th>\n",
       "      <td>tiliaceae</td>\n",
       "      <td>heliocarpus</td>\n",
       "    </tr>\n",
       "    <tr>\n",
       "      <th>2</th>\n",
       "      <td>alangiaceae</td>\n",
       "      <td>alangium</td>\n",
       "    </tr>\n",
       "    <tr>\n",
       "      <th>3</th>\n",
       "      <td>tiliaceae</td>\n",
       "      <td>grewia</td>\n",
       "    </tr>\n",
       "    <tr>\n",
       "      <th>4</th>\n",
       "      <td>rubiaceae</td>\n",
       "      <td>hymenopogon</td>\n",
       "    </tr>\n",
       "    <tr>\n",
       "      <th>5</th>\n",
       "      <td>salicaceae</td>\n",
       "      <td>salix</td>\n",
       "    </tr>\n",
       "    <tr>\n",
       "      <th>6</th>\n",
       "      <td>leguminosae</td>\n",
       "      <td>NaN</td>\n",
       "    </tr>\n",
       "    <tr>\n",
       "      <th>7</th>\n",
       "      <td>fagaceae</td>\n",
       "      <td>quercus</td>\n",
       "    </tr>\n",
       "    <tr>\n",
       "      <th>8</th>\n",
       "      <td>NaN</td>\n",
       "      <td>NaN</td>\n",
       "    </tr>\n",
       "    <tr>\n",
       "      <th>9</th>\n",
       "      <td>annonaceae</td>\n",
       "      <td>goniothalamus</td>\n",
       "    </tr>\n",
       "  </tbody>\n",
       "</table>\n",
       "</div>"
      ],
      "text/plain": [
       "        type 1          type2\n",
       "0   salicaceae          salix\n",
       "1    tiliaceae    heliocarpus\n",
       "2  alangiaceae       alangium\n",
       "3    tiliaceae         grewia\n",
       "4    rubiaceae    hymenopogon\n",
       "5   salicaceae          salix\n",
       "6  leguminosae            NaN\n",
       "7     fagaceae        quercus\n",
       "8          NaN            NaN\n",
       "9   annonaceae  goniothalamus"
      ]
     },
     "execution_count": 4,
     "metadata": {},
     "output_type": "execute_result"
    }
   ],
   "source": [
    "df = df.drop(\"image array\", axis=1)\n",
    "df.head(10)"
   ]
  },
  {
   "cell_type": "raw",
   "metadata": {},
   "source": [
    "Let's import the images and resize them to a size of 32x32.\n",
    "Note that resizing to 32x32 erases a lot of the information contained in the images, which makes it bad."
   ]
  },
  {
   "cell_type": "code",
   "execution_count": 5,
   "metadata": {},
   "outputs": [],
   "source": [
    "\n",
    "img_path = \"C:/Users/Qnouro/Desktop/Programming/Scrapper/leavesDatabase/\"\n",
    "\n",
    "end_path = \".jpg\"\n",
    "\n",
    "img_array = []\n",
    "\n",
    "\n",
    "for i in range(4770):\n",
    "    read_img = cv2.imread(img_path +str(i)+ end_path)\n",
    "    #resizing\n",
    "    size = (32, 32)\n",
    "    fit_and_resized_image = cv2.resize(read_img, dsize=size, interpolation=cv2.INTER_CUBIC)\n",
    "    img_array.append(fit_and_resized_image)\n",
    "    "
   ]
  },
  {
   "cell_type": "markdown",
   "metadata": {},
   "source": [
    "# Image visualisation"
   ]
  },
  {
   "cell_type": "code",
   "execution_count": 6,
   "metadata": {
    "scrolled": false
   },
   "outputs": [
    {
     "data": {
      "image/png": "[encoded data removed]",
      "text/plain": [
       "<Figure size 432x288 with 1 Axes>"
      ]
     },
     "metadata": {
      "needs_background": "light"
     },
     "output_type": "display_data"
    }
   ],
   "source": [
    "imgplot = plt.imshow(img_array[5])"
   ]
  },
  {
   "cell_type": "raw",
   "metadata": {},
   "source": [
    "Adding the converted images to the dataframe"
   ]
  },
  {
   "cell_type": "code",
   "execution_count": 7,
   "metadata": {},
   "outputs": [],
   "source": [
    "df_copy = df\n",
    "\n",
    "df_copy['img'] = img_array"
   ]
  },
  {
   "cell_type": "code",
   "execution_count": 8,
   "metadata": {
    "scrolled": true
   },
   "outputs": [
    {
     "data": {
      "text/html": [
       "<div>\n",
       "<style scoped>\n",
       "    .dataframe tbody tr th:only-of-type {\n",
       "        vertical-align: middle;\n",
       "    }\n",
       "\n",
       "    .dataframe tbody tr th {\n",
       "        vertical-align: top;\n",
       "    }\n",
       "\n",
       "    .dataframe thead th {\n",
       "        text-align: right;\n",
       "    }\n",
       "</style>\n",
       "<table border=\"1\" class=\"dataframe\">\n",
       "  <thead>\n",
       "    <tr style=\"text-align: right;\">\n",
       "      <th></th>\n",
       "      <th>type 1</th>\n",
       "      <th>type2</th>\n",
       "      <th>img</th>\n",
       "    </tr>\n",
       "  </thead>\n",
       "  <tbody>\n",
       "    <tr>\n",
       "      <th>0</th>\n",
       "      <td>salicaceae</td>\n",
       "      <td>salix</td>\n",
       "      <td>[[[113, 124, 132], [115, 126, 134], [109, 119,...</td>\n",
       "    </tr>\n",
       "    <tr>\n",
       "      <th>1</th>\n",
       "      <td>tiliaceae</td>\n",
       "      <td>heliocarpus</td>\n",
       "      <td>[[[169, 177, 184], [167, 177, 184], [166, 176,...</td>\n",
       "    </tr>\n",
       "    <tr>\n",
       "      <th>2</th>\n",
       "      <td>alangiaceae</td>\n",
       "      <td>alangium</td>\n",
       "      <td>[[[255, 255, 255], [255, 255, 255], [255, 255,...</td>\n",
       "    </tr>\n",
       "    <tr>\n",
       "      <th>3</th>\n",
       "      <td>tiliaceae</td>\n",
       "      <td>grewia</td>\n",
       "      <td>[[[133, 139, 144], [145, 149, 154], [162, 166,...</td>\n",
       "    </tr>\n",
       "    <tr>\n",
       "      <th>4</th>\n",
       "      <td>rubiaceae</td>\n",
       "      <td>hymenopogon</td>\n",
       "      <td>[[[132, 144, 154], [135, 147, 157], [140, 150,...</td>\n",
       "    </tr>\n",
       "  </tbody>\n",
       "</table>\n",
       "</div>"
      ],
      "text/plain": [
       "        type 1        type2                                                img\n",
       "0   salicaceae        salix  [[[113, 124, 132], [115, 126, 134], [109, 119,...\n",
       "1    tiliaceae  heliocarpus  [[[169, 177, 184], [167, 177, 184], [166, 176,...\n",
       "2  alangiaceae     alangium  [[[255, 255, 255], [255, 255, 255], [255, 255,...\n",
       "3    tiliaceae       grewia  [[[133, 139, 144], [145, 149, 154], [162, 166,...\n",
       "4    rubiaceae  hymenopogon  [[[132, 144, 154], [135, 147, 157], [140, 150,..."
      ]
     },
     "execution_count": 8,
     "metadata": {},
     "output_type": "execute_result"
    }
   ],
   "source": [
    "df_copy.head()"
   ]
  },
  {
   "cell_type": "markdown",
   "metadata": {},
   "source": [
    "# Dropping NaNs"
   ]
  },
  {
   "cell_type": "raw",
   "metadata": {},
   "source": [
    "As we have previously seen, we have some NaNs values in our dataframe which are to be avoided when training neural networks. Let's get rid of them."
   ]
  },
  {
   "cell_type": "code",
   "execution_count": 9,
   "metadata": {},
   "outputs": [],
   "source": [
    "df_copy.dropna(inplace=True)"
   ]
  },
  {
   "cell_type": "code",
   "execution_count": 10,
   "metadata": {
    "scrolled": false
   },
   "outputs": [
    {
     "data": {
      "text/html": [
       "<div>\n",
       "<style scoped>\n",
       "    .dataframe tbody tr th:only-of-type {\n",
       "        vertical-align: middle;\n",
       "    }\n",
       "\n",
       "    .dataframe tbody tr th {\n",
       "        vertical-align: top;\n",
       "    }\n",
       "\n",
       "    .dataframe thead th {\n",
       "        text-align: right;\n",
       "    }\n",
       "</style>\n",
       "<table border=\"1\" class=\"dataframe\">\n",
       "  <thead>\n",
       "    <tr style=\"text-align: right;\">\n",
       "      <th></th>\n",
       "      <th>type 1</th>\n",
       "      <th>type2</th>\n",
       "      <th>img</th>\n",
       "    </tr>\n",
       "  </thead>\n",
       "  <tbody>\n",
       "    <tr>\n",
       "      <th>0</th>\n",
       "      <td>salicaceae</td>\n",
       "      <td>salix</td>\n",
       "      <td>[[[113, 124, 132], [115, 126, 134], [109, 119,...</td>\n",
       "    </tr>\n",
       "    <tr>\n",
       "      <th>1</th>\n",
       "      <td>tiliaceae</td>\n",
       "      <td>heliocarpus</td>\n",
       "      <td>[[[169, 177, 184], [167, 177, 184], [166, 176,...</td>\n",
       "    </tr>\n",
       "    <tr>\n",
       "      <th>2</th>\n",
       "      <td>alangiaceae</td>\n",
       "      <td>alangium</td>\n",
       "      <td>[[[255, 255, 255], [255, 255, 255], [255, 255,...</td>\n",
       "    </tr>\n",
       "    <tr>\n",
       "      <th>3</th>\n",
       "      <td>tiliaceae</td>\n",
       "      <td>grewia</td>\n",
       "      <td>[[[133, 139, 144], [145, 149, 154], [162, 166,...</td>\n",
       "    </tr>\n",
       "    <tr>\n",
       "      <th>4</th>\n",
       "      <td>rubiaceae</td>\n",
       "      <td>hymenopogon</td>\n",
       "      <td>[[[132, 144, 154], [135, 147, 157], [140, 150,...</td>\n",
       "    </tr>\n",
       "  </tbody>\n",
       "</table>\n",
       "</div>"
      ],
      "text/plain": [
       "        type 1        type2                                                img\n",
       "0   salicaceae        salix  [[[113, 124, 132], [115, 126, 134], [109, 119,...\n",
       "1    tiliaceae  heliocarpus  [[[169, 177, 184], [167, 177, 184], [166, 176,...\n",
       "2  alangiaceae     alangium  [[[255, 255, 255], [255, 255, 255], [255, 255,...\n",
       "3    tiliaceae       grewia  [[[133, 139, 144], [145, 149, 154], [162, 166,...\n",
       "4    rubiaceae  hymenopogon  [[[132, 144, 154], [135, 147, 157], [140, 150,..."
      ]
     },
     "execution_count": 10,
     "metadata": {},
     "output_type": "execute_result"
    }
   ],
   "source": [
    "df_copy.head()"
   ]
  },
  {
   "cell_type": "raw",
   "metadata": {},
   "source": [
    "Number of remaining rows"
   ]
  },
  {
   "cell_type": "code",
   "execution_count": 11,
   "metadata": {
    "scrolled": true
   },
   "outputs": [
    {
     "data": {
      "text/plain": [
       "3246"
      ]
     },
     "execution_count": 11,
     "metadata": {},
     "output_type": "execute_result"
    }
   ],
   "source": [
    "len(df.index.values)"
   ]
  },
  {
   "cell_type": "raw",
   "metadata": {},
   "source": [
    "Let's now visualise our classes and see how spread our images are over the classes."
   ]
  },
  {
   "cell_type": "code",
   "execution_count": 12,
   "metadata": {},
   "outputs": [],
   "source": [
    "first_type_array = pd.Series(df_copy['type 1']).unique()"
   ]
  },
  {
   "cell_type": "code",
   "execution_count": 13,
   "metadata": {},
   "outputs": [
    {
     "data": {
      "text/plain": [
       "96"
      ]
     },
     "execution_count": 13,
     "metadata": {},
     "output_type": "execute_result"
    }
   ],
   "source": [
    "nb = df_copy.loc[df_copy[\"type 1\"] == (first_type_array)[0]]\n",
    "len(nb)"
   ]
  },
  {
   "cell_type": "code",
   "execution_count": 14,
   "metadata": {},
   "outputs": [],
   "source": [
    "len_array = []\n",
    "for item in first_type_array:\n",
    "    len_array.append(len(df_copy.loc[df_copy[\"type 1\"] == item]))\n"
   ]
  },
  {
   "cell_type": "code",
   "execution_count": 15,
   "metadata": {
    "scrolled": false
   },
   "outputs": [
    {
     "data": {
      "image/png": "[encoded data removed]",
      "text/plain": [
       "<Figure size 432x288 with 1 Axes>"
      ]
     },
     "metadata": {
      "needs_background": "light"
     },
     "output_type": "display_data"
    },
    {
     "data": {
      "image/png": "[encoded data removed]",
      "text/plain": [
       "<Figure size 432x288 with 1 Axes>"
      ]
     },
     "metadata": {
      "needs_background": "light"
     },
     "output_type": "display_data"
    }
   ],
   "source": [
    "plt.barh([i for i in range(17)], len_array[:17], tick_label = first_type_array[:17], edgecolor=\"black\", height=0.7, align='center', alpha=0.4)\n",
    "plt.show()\n",
    "\n",
    "plt.barh([i for i in range(17,len(len_array))], len_array[17:], tick_label = first_type_array[17:], edgecolor=\"black\", height=0.7, align='center', alpha=0.4)\n",
    "plt.xlim([0,350])\n",
    "plt.show()"
   ]
  },
  {
   "cell_type": "raw",
   "metadata": {},
   "source": [
    "As we can see, most classes have a number of images close to 48, while some of them are over 180.\n",
    "A good idea would be to try and gather more images from the other classes, but the somewhat radical option chosen \n",
    "here is to get the same number of images for all our classes."
   ]
  },
  {
   "cell_type": "markdown",
   "metadata": {},
   "source": [
    "# balancing the dataset"
   ]
  },
  {
   "cell_type": "code",
   "execution_count": 16,
   "metadata": {},
   "outputs": [],
   "source": [
    "df_copy_2 = df_copy.groupby('type 1')\n",
    "df_copy_2 = df_copy_2.apply(lambda x: x.sample(df_copy_2.size().min())).reset_index(drop=True)"
   ]
  },
  {
   "cell_type": "code",
   "execution_count": 17,
   "metadata": {},
   "outputs": [],
   "source": [
    "len_array = []\n",
    "for item in first_type_array:\n",
    "    len_array.append(df_copy_2[\"type 1\"].value_counts())\n",
    "\n",
    "len_array = df_copy_2[\"type 1\"].value_counts()"
   ]
  },
  {
   "cell_type": "code",
   "execution_count": 18,
   "metadata": {
    "scrolled": false
   },
   "outputs": [
    {
     "data": {
      "image/png": "[encoded data removed]",
      "text/plain": [
       "<Figure size 432x288 with 1 Axes>"
      ]
     },
     "metadata": {
      "needs_background": "light"
     },
     "output_type": "display_data"
    },
    {
     "data": {
      "image/png": "[encoded data removed]",
      "text/plain": [
       "<Figure size 432x288 with 1 Axes>"
      ]
     },
     "metadata": {
      "needs_background": "light"
     },
     "output_type": "display_data"
    }
   ],
   "source": [
    "plt.barh([i for i in range(17)], len_array[:17], tick_label = first_type_array[:17], edgecolor=\"black\", height=0.7, align='center', alpha=0.4)\n",
    "plt.show()\n",
    "\n",
    "plt.barh([i for i in range(17,len(len_array))], len_array[17:], tick_label = first_type_array[17:], edgecolor=\"black\", height=0.7, align='center', alpha=0.4)\n",
    "plt.show()"
   ]
  },
  {
   "cell_type": "markdown",
   "metadata": {},
   "source": [
    "# Encoding"
   ]
  },
  {
   "cell_type": "raw",
   "metadata": {},
   "source": [
    "Now that our dataset is balanced, we still need to encode the classes. We could either give them numbers ranging from 0 to 37, or one-hot-encode it on a 1x37 array."
   ]
  },
  {
   "cell_type": "code",
   "execution_count": 19,
   "metadata": {},
   "outputs": [
    {
     "name": "stderr",
     "output_type": "stream",
     "text": [
      "c:\\users\\qnouro\\appdata\\local\\programs\\python\\python36\\lib\\site-packages\\sklearn\\preprocessing\\_encoders.py:368: FutureWarning: The handling of integer data will change in version 0.22. Currently, the categories are determined based on the range [0, max(values)], while in the future they will be determined based on the unique values.\n",
      "If you want the future behaviour and silence this warning, you can specify \"categories='auto'\".\n",
      "In case you used a LabelEncoder before this OneHotEncoder to convert the categories to integers, then you can now use the OneHotEncoder directly.\n",
      "  warnings.warn(msg, FutureWarning)\n"
     ]
    }
   ],
   "source": [
    "#One Hot Encoding\n",
    "from sklearn.preprocessing import LabelEncoder, OneHotEncoder\n",
    "\n",
    "data = df_copy_2['type 1']\n",
    "\n",
    "values = np.array(data)\n",
    "# integer encode\n",
    "label_encoder = LabelEncoder()\n",
    "integer_encoded = label_encoder.fit_transform(values)\n",
    "# binary encode\n",
    "onehot_encoder = OneHotEncoder(sparse=False)\n",
    "integer_encoded = integer_encoded.reshape(len(integer_encoded), 1)\n",
    "onehot_encoded = onehot_encoder.fit_transform(integer_encoded)\n",
    "# invert first example\n",
    "inverted = label_encoder.inverse_transform([np.argmax(onehot_encoded[0, :])])\n",
    "inverted = label_encoder.inverse_transform([32])\n"
   ]
  },
  {
   "cell_type": "code",
   "execution_count": 20,
   "metadata": {},
   "outputs": [],
   "source": [
    "data = df_copy_2\n",
    "data = pd.get_dummies(data, columns = ['type 1'])\n"
   ]
  },
  {
   "cell_type": "raw",
   "metadata": {},
   "source": [
    "For the sake of this first attempt, we're focusing only on the primary type of the leaves."
   ]
  },
  {
   "cell_type": "code",
   "execution_count": 21,
   "metadata": {},
   "outputs": [],
   "source": [
    "X = data.iloc[:, 1:2].values\n",
    "\n",
    "y = data.iloc[:, 2:].values\n"
   ]
  },
  {
   "cell_type": "code",
   "execution_count": 22,
   "metadata": {},
   "outputs": [],
   "source": [
    "cp = []\n",
    "for index, item in enumerate(X):\n",
    "    cp.append(X[index][0])\n",
    "X = np.asarray(cp)"
   ]
  },
  {
   "cell_type": "code",
   "execution_count": 23,
   "metadata": {},
   "outputs": [
    {
     "data": {
      "text/html": [
       "<div>\n",
       "<style scoped>\n",
       "    .dataframe tbody tr th:only-of-type {\n",
       "        vertical-align: middle;\n",
       "    }\n",
       "\n",
       "    .dataframe tbody tr th {\n",
       "        vertical-align: top;\n",
       "    }\n",
       "\n",
       "    .dataframe thead th {\n",
       "        text-align: right;\n",
       "    }\n",
       "</style>\n",
       "<table border=\"1\" class=\"dataframe\">\n",
       "  <thead>\n",
       "    <tr style=\"text-align: right;\">\n",
       "      <th></th>\n",
       "      <th>type2</th>\n",
       "      <th>img</th>\n",
       "      <th>type 1_acanthaceae</th>\n",
       "      <th>type 1_acanthaceae</th>\n",
       "      <th>type 1_aceraceae</th>\n",
       "      <th>type 1_aceraceae</th>\n",
       "      <th>type 1_achatocarpaceae</th>\n",
       "      <th>type 1_actinidiaceae</th>\n",
       "      <th>type 1_actinidiaceae</th>\n",
       "      <th>type 1_alangiaceae</th>\n",
       "      <th>...</th>\n",
       "      <th>type 1_proteaceae</th>\n",
       "      <th>type 1_rhamnaceae</th>\n",
       "      <th>type 1_rosaceae</th>\n",
       "      <th>type 1_rubiaceae</th>\n",
       "      <th>type 1_salicaceae</th>\n",
       "      <th>type 1_sapindaceae</th>\n",
       "      <th>type 1_tetrameristaceae</th>\n",
       "      <th>type 1_tiliaceae</th>\n",
       "      <th>type 1_verbenaceae</th>\n",
       "      <th>type 1_zygophyllaceae</th>\n",
       "    </tr>\n",
       "  </thead>\n",
       "  <tbody>\n",
       "    <tr>\n",
       "      <th>0</th>\n",
       "      <td>thunbergia</td>\n",
       "      <td>[[[254, 254, 254], [255, 255, 255], [254, 254,...</td>\n",
       "      <td>1</td>\n",
       "      <td>0</td>\n",
       "      <td>0</td>\n",
       "      <td>0</td>\n",
       "      <td>0</td>\n",
       "      <td>0</td>\n",
       "      <td>0</td>\n",
       "      <td>0</td>\n",
       "      <td>...</td>\n",
       "      <td>0</td>\n",
       "      <td>0</td>\n",
       "      <td>0</td>\n",
       "      <td>0</td>\n",
       "      <td>0</td>\n",
       "      <td>0</td>\n",
       "      <td>0</td>\n",
       "      <td>0</td>\n",
       "      <td>0</td>\n",
       "      <td>0</td>\n",
       "    </tr>\n",
       "    <tr>\n",
       "      <th>1</th>\n",
       "      <td>thunbergia</td>\n",
       "      <td>[[[254, 254, 254], [255, 255, 255], [254, 254,...</td>\n",
       "      <td>1</td>\n",
       "      <td>0</td>\n",
       "      <td>0</td>\n",
       "      <td>0</td>\n",
       "      <td>0</td>\n",
       "      <td>0</td>\n",
       "      <td>0</td>\n",
       "      <td>0</td>\n",
       "      <td>...</td>\n",
       "      <td>0</td>\n",
       "      <td>0</td>\n",
       "      <td>0</td>\n",
       "      <td>0</td>\n",
       "      <td>0</td>\n",
       "      <td>0</td>\n",
       "      <td>0</td>\n",
       "      <td>0</td>\n",
       "      <td>0</td>\n",
       "      <td>0</td>\n",
       "    </tr>\n",
       "    <tr>\n",
       "      <th>2</th>\n",
       "      <td>thunbergia</td>\n",
       "      <td>[[[254, 254, 254], [255, 255, 255], [254, 254,...</td>\n",
       "      <td>1</td>\n",
       "      <td>0</td>\n",
       "      <td>0</td>\n",
       "      <td>0</td>\n",
       "      <td>0</td>\n",
       "      <td>0</td>\n",
       "      <td>0</td>\n",
       "      <td>0</td>\n",
       "      <td>...</td>\n",
       "      <td>0</td>\n",
       "      <td>0</td>\n",
       "      <td>0</td>\n",
       "      <td>0</td>\n",
       "      <td>0</td>\n",
       "      <td>0</td>\n",
       "      <td>0</td>\n",
       "      <td>0</td>\n",
       "      <td>0</td>\n",
       "      <td>0</td>\n",
       "    </tr>\n",
       "    <tr>\n",
       "      <th>3</th>\n",
       "      <td>thunbergia</td>\n",
       "      <td>[[[254, 254, 254], [255, 255, 255], [254, 254,...</td>\n",
       "      <td>1</td>\n",
       "      <td>0</td>\n",
       "      <td>0</td>\n",
       "      <td>0</td>\n",
       "      <td>0</td>\n",
       "      <td>0</td>\n",
       "      <td>0</td>\n",
       "      <td>0</td>\n",
       "      <td>...</td>\n",
       "      <td>0</td>\n",
       "      <td>0</td>\n",
       "      <td>0</td>\n",
       "      <td>0</td>\n",
       "      <td>0</td>\n",
       "      <td>0</td>\n",
       "      <td>0</td>\n",
       "      <td>0</td>\n",
       "      <td>0</td>\n",
       "      <td>0</td>\n",
       "    </tr>\n",
       "    <tr>\n",
       "      <th>4</th>\n",
       "      <td>thunbergia</td>\n",
       "      <td>[[[254, 254, 254], [255, 255, 255], [254, 254,...</td>\n",
       "      <td>1</td>\n",
       "      <td>0</td>\n",
       "      <td>0</td>\n",
       "      <td>0</td>\n",
       "      <td>0</td>\n",
       "      <td>0</td>\n",
       "      <td>0</td>\n",
       "      <td>0</td>\n",
       "      <td>...</td>\n",
       "      <td>0</td>\n",
       "      <td>0</td>\n",
       "      <td>0</td>\n",
       "      <td>0</td>\n",
       "      <td>0</td>\n",
       "      <td>0</td>\n",
       "      <td>0</td>\n",
       "      <td>0</td>\n",
       "      <td>0</td>\n",
       "      <td>0</td>\n",
       "    </tr>\n",
       "  </tbody>\n",
       "</table>\n",
       "<p>5 rows × 40 columns</p>\n",
       "</div>"
      ],
      "text/plain": [
       "        type2                                                img  \\\n",
       "0  thunbergia  [[[254, 254, 254], [255, 255, 255], [254, 254,...   \n",
       "1  thunbergia  [[[254, 254, 254], [255, 255, 255], [254, 254,...   \n",
       "2  thunbergia  [[[254, 254, 254], [255, 255, 255], [254, 254,...   \n",
       "3  thunbergia  [[[254, 254, 254], [255, 255, 255], [254, 254,...   \n",
       "4  thunbergia  [[[254, 254, 254], [255, 255, 255], [254, 254,...   \n",
       "\n",
       "   type 1_acanthaceae  type 1_acanthaceae   type 1_aceraceae  \\\n",
       "0                   1                    0                 0   \n",
       "1                   1                    0                 0   \n",
       "2                   1                    0                 0   \n",
       "3                   1                    0                 0   \n",
       "4                   1                    0                 0   \n",
       "\n",
       "   type 1_aceraceae   type 1_achatocarpaceae  type 1_actinidiaceae  \\\n",
       "0                  0                       0                     0   \n",
       "1                  0                       0                     0   \n",
       "2                  0                       0                     0   \n",
       "3                  0                       0                     0   \n",
       "4                  0                       0                     0   \n",
       "\n",
       "   type 1_actinidiaceae   type 1_alangiaceae  ...  type 1_proteaceae  \\\n",
       "0                      0                   0  ...                  0   \n",
       "1                      0                   0  ...                  0   \n",
       "2                      0                   0  ...                  0   \n",
       "3                      0                   0  ...                  0   \n",
       "4                      0                   0  ...                  0   \n",
       "\n",
       "   type 1_rhamnaceae  type 1_rosaceae  type 1_rubiaceae  type 1_salicaceae  \\\n",
       "0                  0                0                 0                  0   \n",
       "1                  0                0                 0                  0   \n",
       "2                  0                0                 0                  0   \n",
       "3                  0                0                 0                  0   \n",
       "4                  0                0                 0                  0   \n",
       "\n",
       "   type 1_sapindaceae  type 1_tetrameristaceae  type 1_tiliaceae  \\\n",
       "0                   0                        0                 0   \n",
       "1                   0                        0                 0   \n",
       "2                   0                        0                 0   \n",
       "3                   0                        0                 0   \n",
       "4                   0                        0                 0   \n",
       "\n",
       "   type 1_verbenaceae  type 1_zygophyllaceae  \n",
       "0                   0                      0  \n",
       "1                   0                      0  \n",
       "2                   0                      0  \n",
       "3                   0                      0  \n",
       "4                   0                      0  \n",
       "\n",
       "[5 rows x 40 columns]"
      ]
     },
     "execution_count": 23,
     "metadata": {},
     "output_type": "execute_result"
    }
   ],
   "source": [
    "data.head()"
   ]
  },
  {
   "cell_type": "markdown",
   "metadata": {},
   "source": [
    "# Shuffling"
   ]
  },
  {
   "cell_type": "raw",
   "metadata": {},
   "source": [
    "In order to get rid of a bias related to the order the neural network would be fed the datas, we need to shuffle them. Usually, this operation is done through the dataloaders and might not be necessary."
   ]
  },
  {
   "cell_type": "code",
   "execution_count": 24,
   "metadata": {},
   "outputs": [],
   "source": [
    "preprocessed_df = data.sample(frac=1)"
   ]
  },
  {
   "cell_type": "code",
   "execution_count": 25,
   "metadata": {
    "scrolled": true
   },
   "outputs": [
    {
     "data": {
      "text/html": [
       "<div>\n",
       "<style scoped>\n",
       "    .dataframe tbody tr th:only-of-type {\n",
       "        vertical-align: middle;\n",
       "    }\n",
       "\n",
       "    .dataframe tbody tr th {\n",
       "        vertical-align: top;\n",
       "    }\n",
       "\n",
       "    .dataframe thead th {\n",
       "        text-align: right;\n",
       "    }\n",
       "</style>\n",
       "<table border=\"1\" class=\"dataframe\">\n",
       "  <thead>\n",
       "    <tr style=\"text-align: right;\">\n",
       "      <th></th>\n",
       "      <th>type2</th>\n",
       "      <th>img</th>\n",
       "      <th>type 1_acanthaceae</th>\n",
       "      <th>type 1_acanthaceae</th>\n",
       "      <th>type 1_aceraceae</th>\n",
       "      <th>type 1_aceraceae</th>\n",
       "      <th>type 1_achatocarpaceae</th>\n",
       "      <th>type 1_actinidiaceae</th>\n",
       "      <th>type 1_actinidiaceae</th>\n",
       "      <th>type 1_alangiaceae</th>\n",
       "      <th>...</th>\n",
       "      <th>type 1_proteaceae</th>\n",
       "      <th>type 1_rhamnaceae</th>\n",
       "      <th>type 1_rosaceae</th>\n",
       "      <th>type 1_rubiaceae</th>\n",
       "      <th>type 1_salicaceae</th>\n",
       "      <th>type 1_sapindaceae</th>\n",
       "      <th>type 1_tetrameristaceae</th>\n",
       "      <th>type 1_tiliaceae</th>\n",
       "      <th>type 1_verbenaceae</th>\n",
       "      <th>type 1_zygophyllaceae</th>\n",
       "    </tr>\n",
       "  </thead>\n",
       "  <tbody>\n",
       "    <tr>\n",
       "      <th>921</th>\n",
       "      <td>amblygonocarpus</td>\n",
       "      <td>[[[246, 251, 254], [243, 248, 251], [244, 249,...</td>\n",
       "      <td>0</td>\n",
       "      <td>0</td>\n",
       "      <td>0</td>\n",
       "      <td>0</td>\n",
       "      <td>0</td>\n",
       "      <td>0</td>\n",
       "      <td>0</td>\n",
       "      <td>0</td>\n",
       "      <td>...</td>\n",
       "      <td>0</td>\n",
       "      <td>0</td>\n",
       "      <td>0</td>\n",
       "      <td>0</td>\n",
       "      <td>0</td>\n",
       "      <td>0</td>\n",
       "      <td>0</td>\n",
       "      <td>0</td>\n",
       "      <td>0</td>\n",
       "      <td>0</td>\n",
       "    </tr>\n",
       "    <tr>\n",
       "      <th>550</th>\n",
       "      <td>alnus</td>\n",
       "      <td>[[[131, 133, 143], [132, 136, 140], [137, 140,...</td>\n",
       "      <td>0</td>\n",
       "      <td>0</td>\n",
       "      <td>0</td>\n",
       "      <td>0</td>\n",
       "      <td>0</td>\n",
       "      <td>0</td>\n",
       "      <td>0</td>\n",
       "      <td>0</td>\n",
       "      <td>...</td>\n",
       "      <td>0</td>\n",
       "      <td>0</td>\n",
       "      <td>0</td>\n",
       "      <td>0</td>\n",
       "      <td>0</td>\n",
       "      <td>0</td>\n",
       "      <td>0</td>\n",
       "      <td>0</td>\n",
       "      <td>0</td>\n",
       "      <td>0</td>\n",
       "    </tr>\n",
       "    <tr>\n",
       "      <th>676</th>\n",
       "      <td>ceratopetalum</td>\n",
       "      <td>[[[230, 232, 232], [255, 255, 255], [254, 254,...</td>\n",
       "      <td>0</td>\n",
       "      <td>0</td>\n",
       "      <td>0</td>\n",
       "      <td>0</td>\n",
       "      <td>0</td>\n",
       "      <td>0</td>\n",
       "      <td>0</td>\n",
       "      <td>0</td>\n",
       "      <td>...</td>\n",
       "      <td>0</td>\n",
       "      <td>0</td>\n",
       "      <td>0</td>\n",
       "      <td>0</td>\n",
       "      <td>0</td>\n",
       "      <td>0</td>\n",
       "      <td>0</td>\n",
       "      <td>0</td>\n",
       "      <td>0</td>\n",
       "      <td>0</td>\n",
       "    </tr>\n",
       "    <tr>\n",
       "      <th>672</th>\n",
       "      <td>ceratopetalum</td>\n",
       "      <td>[[[230, 232, 232], [255, 255, 255], [254, 254,...</td>\n",
       "      <td>0</td>\n",
       "      <td>0</td>\n",
       "      <td>0</td>\n",
       "      <td>0</td>\n",
       "      <td>0</td>\n",
       "      <td>0</td>\n",
       "      <td>0</td>\n",
       "      <td>0</td>\n",
       "      <td>...</td>\n",
       "      <td>0</td>\n",
       "      <td>0</td>\n",
       "      <td>0</td>\n",
       "      <td>0</td>\n",
       "      <td>0</td>\n",
       "      <td>0</td>\n",
       "      <td>0</td>\n",
       "      <td>0</td>\n",
       "      <td>0</td>\n",
       "      <td>0</td>\n",
       "    </tr>\n",
       "    <tr>\n",
       "      <th>726</th>\n",
       "      <td>bernardia</td>\n",
       "      <td>[[[254, 255, 255], [251, 251, 251], [254, 254,...</td>\n",
       "      <td>0</td>\n",
       "      <td>0</td>\n",
       "      <td>0</td>\n",
       "      <td>0</td>\n",
       "      <td>0</td>\n",
       "      <td>0</td>\n",
       "      <td>0</td>\n",
       "      <td>0</td>\n",
       "      <td>...</td>\n",
       "      <td>0</td>\n",
       "      <td>0</td>\n",
       "      <td>0</td>\n",
       "      <td>0</td>\n",
       "      <td>0</td>\n",
       "      <td>0</td>\n",
       "      <td>0</td>\n",
       "      <td>0</td>\n",
       "      <td>0</td>\n",
       "      <td>0</td>\n",
       "    </tr>\n",
       "  </tbody>\n",
       "</table>\n",
       "<p>5 rows × 40 columns</p>\n",
       "</div>"
      ],
      "text/plain": [
       "               type2                                                img  \\\n",
       "921  amblygonocarpus  [[[246, 251, 254], [243, 248, 251], [244, 249,...   \n",
       "550            alnus  [[[131, 133, 143], [132, 136, 140], [137, 140,...   \n",
       "676    ceratopetalum  [[[230, 232, 232], [255, 255, 255], [254, 254,...   \n",
       "672    ceratopetalum  [[[230, 232, 232], [255, 255, 255], [254, 254,...   \n",
       "726       bernardia   [[[254, 255, 255], [251, 251, 251], [254, 254,...   \n",
       "\n",
       "     type 1_acanthaceae  type 1_acanthaceae   type 1_aceraceae  \\\n",
       "921                   0                    0                 0   \n",
       "550                   0                    0                 0   \n",
       "676                   0                    0                 0   \n",
       "672                   0                    0                 0   \n",
       "726                   0                    0                 0   \n",
       "\n",
       "     type 1_aceraceae   type 1_achatocarpaceae  type 1_actinidiaceae  \\\n",
       "921                  0                       0                     0   \n",
       "550                  0                       0                     0   \n",
       "676                  0                       0                     0   \n",
       "672                  0                       0                     0   \n",
       "726                  0                       0                     0   \n",
       "\n",
       "     type 1_actinidiaceae   type 1_alangiaceae  ...  type 1_proteaceae  \\\n",
       "921                      0                   0  ...                  0   \n",
       "550                      0                   0  ...                  0   \n",
       "676                      0                   0  ...                  0   \n",
       "672                      0                   0  ...                  0   \n",
       "726                      0                   0  ...                  0   \n",
       "\n",
       "     type 1_rhamnaceae  type 1_rosaceae  type 1_rubiaceae  type 1_salicaceae  \\\n",
       "921                  0                0                 0                  0   \n",
       "550                  0                0                 0                  0   \n",
       "676                  0                0                 0                  0   \n",
       "672                  0                0                 0                  0   \n",
       "726                  0                0                 0                  0   \n",
       "\n",
       "     type 1_sapindaceae  type 1_tetrameristaceae  type 1_tiliaceae  \\\n",
       "921                   0                        0                 0   \n",
       "550                   0                        0                 0   \n",
       "676                   0                        0                 0   \n",
       "672                   0                        0                 0   \n",
       "726                   0                        0                 0   \n",
       "\n",
       "     type 1_verbenaceae  type 1_zygophyllaceae  \n",
       "921                   0                      0  \n",
       "550                   0                      0  \n",
       "676                   0                      0  \n",
       "672                   0                      0  \n",
       "726                   0                      0  \n",
       "\n",
       "[5 rows x 40 columns]"
      ]
     },
     "execution_count": 25,
     "metadata": {},
     "output_type": "execute_result"
    }
   ],
   "source": [
    "preprocessed_df.head(5)"
   ]
  },
  {
   "cell_type": "markdown",
   "metadata": {},
   "source": [
    "# Saving the data"
   ]
  },
  {
   "cell_type": "raw",
   "metadata": {},
   "source": [
    "Let's save everything in a pickle file that is ready for use."
   ]
  },
  {
   "cell_type": "code",
   "execution_count": 26,
   "metadata": {},
   "outputs": [],
   "source": [
    "preprocessed_df.to_pickle(\"preprocessedLeafDB.pkl\")"
   ]
  },
  {
   "cell_type": "raw",
   "metadata": {},
   "source": [
    "Making sure everything works correctly."
   ]
  },
  {
   "cell_type": "code",
   "execution_count": 27,
   "metadata": {},
   "outputs": [],
   "source": [
    "read_df = pd.read_pickle(\"preprocessedLeafDB.pkl\")"
   ]
  },
  {
   "cell_type": "code",
   "execution_count": 28,
   "metadata": {
    "scrolled": true
   },
   "outputs": [
    {
     "data": {
      "text/html": [
       "<div>\n",
       "<style scoped>\n",
       "    .dataframe tbody tr th:only-of-type {\n",
       "        vertical-align: middle;\n",
       "    }\n",
       "\n",
       "    .dataframe tbody tr th {\n",
       "        vertical-align: top;\n",
       "    }\n",
       "\n",
       "    .dataframe thead th {\n",
       "        text-align: right;\n",
       "    }\n",
       "</style>\n",
       "<table border=\"1\" class=\"dataframe\">\n",
       "  <thead>\n",
       "    <tr style=\"text-align: right;\">\n",
       "      <th></th>\n",
       "      <th>type2</th>\n",
       "      <th>img</th>\n",
       "      <th>type 1_acanthaceae</th>\n",
       "      <th>type 1_acanthaceae</th>\n",
       "      <th>type 1_aceraceae</th>\n",
       "      <th>type 1_aceraceae</th>\n",
       "      <th>type 1_achatocarpaceae</th>\n",
       "      <th>type 1_actinidiaceae</th>\n",
       "      <th>type 1_actinidiaceae</th>\n",
       "      <th>type 1_alangiaceae</th>\n",
       "      <th>...</th>\n",
       "      <th>type 1_proteaceae</th>\n",
       "      <th>type 1_rhamnaceae</th>\n",
       "      <th>type 1_rosaceae</th>\n",
       "      <th>type 1_rubiaceae</th>\n",
       "      <th>type 1_salicaceae</th>\n",
       "      <th>type 1_sapindaceae</th>\n",
       "      <th>type 1_tetrameristaceae</th>\n",
       "      <th>type 1_tiliaceae</th>\n",
       "      <th>type 1_verbenaceae</th>\n",
       "      <th>type 1_zygophyllaceae</th>\n",
       "    </tr>\n",
       "  </thead>\n",
       "  <tbody>\n",
       "    <tr>\n",
       "      <th>921</th>\n",
       "      <td>amblygonocarpus</td>\n",
       "      <td>[[[246, 251, 254], [243, 248, 251], [244, 249,...</td>\n",
       "      <td>0</td>\n",
       "      <td>0</td>\n",
       "      <td>0</td>\n",
       "      <td>0</td>\n",
       "      <td>0</td>\n",
       "      <td>0</td>\n",
       "      <td>0</td>\n",
       "      <td>0</td>\n",
       "      <td>...</td>\n",
       "      <td>0</td>\n",
       "      <td>0</td>\n",
       "      <td>0</td>\n",
       "      <td>0</td>\n",
       "      <td>0</td>\n",
       "      <td>0</td>\n",
       "      <td>0</td>\n",
       "      <td>0</td>\n",
       "      <td>0</td>\n",
       "      <td>0</td>\n",
       "    </tr>\n",
       "    <tr>\n",
       "      <th>550</th>\n",
       "      <td>alnus</td>\n",
       "      <td>[[[131, 133, 143], [132, 136, 140], [137, 140,...</td>\n",
       "      <td>0</td>\n",
       "      <td>0</td>\n",
       "      <td>0</td>\n",
       "      <td>0</td>\n",
       "      <td>0</td>\n",
       "      <td>0</td>\n",
       "      <td>0</td>\n",
       "      <td>0</td>\n",
       "      <td>...</td>\n",
       "      <td>0</td>\n",
       "      <td>0</td>\n",
       "      <td>0</td>\n",
       "      <td>0</td>\n",
       "      <td>0</td>\n",
       "      <td>0</td>\n",
       "      <td>0</td>\n",
       "      <td>0</td>\n",
       "      <td>0</td>\n",
       "      <td>0</td>\n",
       "    </tr>\n",
       "    <tr>\n",
       "      <th>676</th>\n",
       "      <td>ceratopetalum</td>\n",
       "      <td>[[[230, 232, 232], [255, 255, 255], [254, 254,...</td>\n",
       "      <td>0</td>\n",
       "      <td>0</td>\n",
       "      <td>0</td>\n",
       "      <td>0</td>\n",
       "      <td>0</td>\n",
       "      <td>0</td>\n",
       "      <td>0</td>\n",
       "      <td>0</td>\n",
       "      <td>...</td>\n",
       "      <td>0</td>\n",
       "      <td>0</td>\n",
       "      <td>0</td>\n",
       "      <td>0</td>\n",
       "      <td>0</td>\n",
       "      <td>0</td>\n",
       "      <td>0</td>\n",
       "      <td>0</td>\n",
       "      <td>0</td>\n",
       "      <td>0</td>\n",
       "    </tr>\n",
       "    <tr>\n",
       "      <th>672</th>\n",
       "      <td>ceratopetalum</td>\n",
       "      <td>[[[230, 232, 232], [255, 255, 255], [254, 254,...</td>\n",
       "      <td>0</td>\n",
       "      <td>0</td>\n",
       "      <td>0</td>\n",
       "      <td>0</td>\n",
       "      <td>0</td>\n",
       "      <td>0</td>\n",
       "      <td>0</td>\n",
       "      <td>0</td>\n",
       "      <td>...</td>\n",
       "      <td>0</td>\n",
       "      <td>0</td>\n",
       "      <td>0</td>\n",
       "      <td>0</td>\n",
       "      <td>0</td>\n",
       "      <td>0</td>\n",
       "      <td>0</td>\n",
       "      <td>0</td>\n",
       "      <td>0</td>\n",
       "      <td>0</td>\n",
       "    </tr>\n",
       "    <tr>\n",
       "      <th>726</th>\n",
       "      <td>bernardia</td>\n",
       "      <td>[[[254, 255, 255], [251, 251, 251], [254, 254,...</td>\n",
       "      <td>0</td>\n",
       "      <td>0</td>\n",
       "      <td>0</td>\n",
       "      <td>0</td>\n",
       "      <td>0</td>\n",
       "      <td>0</td>\n",
       "      <td>0</td>\n",
       "      <td>0</td>\n",
       "      <td>...</td>\n",
       "      <td>0</td>\n",
       "      <td>0</td>\n",
       "      <td>0</td>\n",
       "      <td>0</td>\n",
       "      <td>0</td>\n",
       "      <td>0</td>\n",
       "      <td>0</td>\n",
       "      <td>0</td>\n",
       "      <td>0</td>\n",
       "      <td>0</td>\n",
       "    </tr>\n",
       "  </tbody>\n",
       "</table>\n",
       "<p>5 rows × 40 columns</p>\n",
       "</div>"
      ],
      "text/plain": [
       "               type2                                                img  \\\n",
       "921  amblygonocarpus  [[[246, 251, 254], [243, 248, 251], [244, 249,...   \n",
       "550            alnus  [[[131, 133, 143], [132, 136, 140], [137, 140,...   \n",
       "676    ceratopetalum  [[[230, 232, 232], [255, 255, 255], [254, 254,...   \n",
       "672    ceratopetalum  [[[230, 232, 232], [255, 255, 255], [254, 254,...   \n",
       "726       bernardia   [[[254, 255, 255], [251, 251, 251], [254, 254,...   \n",
       "\n",
       "     type 1_acanthaceae  type 1_acanthaceae   type 1_aceraceae  \\\n",
       "921                   0                    0                 0   \n",
       "550                   0                    0                 0   \n",
       "676                   0                    0                 0   \n",
       "672                   0                    0                 0   \n",
       "726                   0                    0                 0   \n",
       "\n",
       "     type 1_aceraceae   type 1_achatocarpaceae  type 1_actinidiaceae  \\\n",
       "921                  0                       0                     0   \n",
       "550                  0                       0                     0   \n",
       "676                  0                       0                     0   \n",
       "672                  0                       0                     0   \n",
       "726                  0                       0                     0   \n",
       "\n",
       "     type 1_actinidiaceae   type 1_alangiaceae  ...  type 1_proteaceae  \\\n",
       "921                      0                   0  ...                  0   \n",
       "550                      0                   0  ...                  0   \n",
       "676                      0                   0  ...                  0   \n",
       "672                      0                   0  ...                  0   \n",
       "726                      0                   0  ...                  0   \n",
       "\n",
       "     type 1_rhamnaceae  type 1_rosaceae  type 1_rubiaceae  type 1_salicaceae  \\\n",
       "921                  0                0                 0                  0   \n",
       "550                  0                0                 0                  0   \n",
       "676                  0                0                 0                  0   \n",
       "672                  0                0                 0                  0   \n",
       "726                  0                0                 0                  0   \n",
       "\n",
       "     type 1_sapindaceae  type 1_tetrameristaceae  type 1_tiliaceae  \\\n",
       "921                   0                        0                 0   \n",
       "550                   0                        0                 0   \n",
       "676                   0                        0                 0   \n",
       "672                   0                        0                 0   \n",
       "726                   0                        0                 0   \n",
       "\n",
       "     type 1_verbenaceae  type 1_zygophyllaceae  \n",
       "921                   0                      0  \n",
       "550                   0                      0  \n",
       "676                   0                      0  \n",
       "672                   0                      0  \n",
       "726                   0                      0  \n",
       "\n",
       "[5 rows x 40 columns]"
      ]
     },
     "execution_count": 28,
     "metadata": {},
     "output_type": "execute_result"
    }
   ],
   "source": [
    "read_df.head(5)"
   ]
  },
  {
   "cell_type": "code",
   "execution_count": 29,
   "metadata": {},
   "outputs": [
    {
     "data": {
      "text/plain": [
       "<matplotlib.image.AxesImage at 0x1c4d039def0>"
      ]
     },
     "execution_count": 29,
     "metadata": {},
     "output_type": "execute_result"
    },
    {
     "data": {
      "image/png": "[encoded data removed]",
      "text/plain": [
       "<Figure size 432x288 with 1 Axes>"
      ]
     },
     "metadata": {
      "needs_background": "light"
     },
     "output_type": "display_data"
    }
   ],
   "source": [
    "plt.imshow(read_df[\"img\"][130])"
   ]
  }
 ],
 "metadata": {
  "kernelspec": {
   "display_name": "Python 3",
   "language": "python",
   "name": "python3"
  },
  "language_info": {
   "codemirror_mode": {
    "name": "ipython",
    "version": 3
   },
   "file_extension": ".py",
   "mimetype": "text/x-python",
   "name": "python",
   "nbconvert_exporter": "python",
   "pygments_lexer": "ipython3",
   "version": "3.6.8"
  }
 },
 "nbformat": 4,
 "nbformat_minor": 2
}
