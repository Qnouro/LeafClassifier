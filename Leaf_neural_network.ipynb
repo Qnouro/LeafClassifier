{
 "cells": [
  {
   "cell_type": "code",
   "execution_count": 1,
   "metadata": {},
   "outputs": [],
   "source": [
    "import pandas as pd\n",
    "import numpy as np\n",
    "import matplotlib.pyplot as plt\n",
    "import torch "
   ]
  },
  {
   "cell_type": "markdown",
   "metadata": {},
   "source": [
    "# Importing the database"
   ]
  },
  {
   "cell_type": "code",
   "execution_count": 2,
   "metadata": {
    "scrolled": false
   },
   "outputs": [],
   "source": [
    "df = pd.read_pickle(\"preprocessedLeafDB.pkl\")"
   ]
  },
  {
   "cell_type": "code",
   "execution_count": 3,
   "metadata": {},
   "outputs": [],
   "source": [
    "msk = np.random.rand(len(df)) < 0.8\n",
    "\n",
    "trainset = df[msk]\n",
    "\n",
    "testset = df[~msk]"
   ]
  },
  {
   "cell_type": "code",
   "execution_count": 4,
   "metadata": {},
   "outputs": [],
   "source": [
    "testvalues = (testset.values.tolist())\n",
    "\n",
    "cleaned_test_set = []\n",
    "temp = trainset.values.tolist()\n",
    "#i = 0\n",
    "for i in range(len(testset)):\n",
    "    tenseur = torch.tensor(testvalues[i][1]/255)\n",
    "    classification = list.index(testvalues[i][2:40], 1)\n",
    "    cleaned_test_set.append((tenseur, classification))\n",
    "    \n",
    "trainvalues = (trainset.values.tolist())\n",
    "cleaned_train_set = []\n",
    "for i in range(len(trainset)):\n",
    "    tenseur = torch.tensor(trainvalues[i][1]/255)\n",
    "    classification = list.index(trainvalues[i][2:40], 1)\n",
    "    cleaned_train_set.append((tenseur, classification))\n",
    "    \n",
    "    "
   ]
  },
  {
   "cell_type": "code",
   "execution_count": 5,
   "metadata": {},
   "outputs": [],
   "source": [
    "import torchvision\n",
    "from torchvision.transforms import transforms"
   ]
  },
  {
   "cell_type": "code",
   "execution_count": 6,
   "metadata": {},
   "outputs": [],
   "source": [
    "transform = transforms.Compose(\n",
    "    [transforms.ToTensor(),\n",
    "     transforms.Normalize((0.5, 0.5, 0.5), (0.5, 0.5, 0.5))])\n",
    "\n",
    "trainloader = torch.utils.data.DataLoader(cleaned_train_set, batch_size=4,\n",
    "                                          shuffle=True, num_workers=2)\n",
    "\n",
    "testloader = torch.utils.data.DataLoader(cleaned_test_set, batch_size=4,\n",
    "                                         shuffle=False, num_workers=2)\n",
    "\n",
    "classes = ('0', '1','2', '3', '4', '5', '6', '7', '8', '9', '10', '11','12', '13', '14', '15', '16', '17', '18', '19', '20',\n",
    "           '21','22', '23', '24', '25', '26', '27', '28', '29', '30', '31','32', '33', '34', '35', '36', '37')\n"
   ]
  },
  {
   "cell_type": "markdown",
   "metadata": {},
   "source": [
    "# Creating the neural network's architecture"
   ]
  },
  {
   "cell_type": "code",
   "execution_count": 7,
   "metadata": {},
   "outputs": [],
   "source": [
    "import torch.nn as nn\n",
    "import torch.nn.functional as F\n",
    "\n",
    "\n",
    "class Net(nn.Module):\n",
    "    def __init__(self):\n",
    "        super(Net, self).__init__()\n",
    "        self.conv1 = nn.Conv2d(3, 1, 5)\n",
    "        self.pool = nn.MaxPool2d(2, 2)\n",
    "        self.conv2 = nn.Conv2d(1, 16, 5)\n",
    "        self.fc1 = nn.Linear(16 * 5 * 5, 120)\n",
    "        self.fc2 = nn.Linear(120, 84)\n",
    "        self.fc3 = nn.Linear(84, 38)\n",
    "\n",
    "    def forward(self, x):\n",
    "        x = self.pool(F.relu(self.conv1(x)))\n",
    "        x = self.pool(F.relu(self.conv2(x)))\n",
    "        x = x.view(-1, 16 * 5 * 5)\n",
    "        x = F.relu(self.fc1(x))\n",
    "        x = F.relu(self.fc2(x))\n",
    "        x = self.fc3(x)\n",
    "        return x\n",
    "\n",
    "\n",
    "net = Net()\n"
   ]
  },
  {
   "cell_type": "code",
   "execution_count": 8,
   "metadata": {},
   "outputs": [],
   "source": [
    "import torch.optim as optim\n",
    "\n",
    "criterion = nn.CrossEntropyLoss()\n",
    "optimizer = optim.SGD(net.parameters(), lr=0.001, momentum=0.9)"
   ]
  },
  {
   "cell_type": "markdown",
   "metadata": {},
   "source": [
    "# Training"
   ]
  },
  {
   "cell_type": "code",
   "execution_count": 9,
   "metadata": {},
   "outputs": [
    {
     "name": "stdout",
     "output_type": "stream",
     "text": [
      "[1,   200] loss: 0.364\n",
      "[1,   400] loss: 0.364\n",
      "[1,   600] loss: 0.364\n",
      "[1,   800] loss: 0.364\n",
      "[1,  1000] loss: 0.362\n",
      "[1,  1200] loss: 0.361\n",
      "[1,  1400] loss: 0.361\n",
      "[2,   200] loss: 0.345\n",
      "[2,   400] loss: 0.315\n",
      "[2,   600] loss: 0.264\n",
      "[2,   800] loss: 0.193\n",
      "[2,  1000] loss: 0.159\n",
      "[2,  1200] loss: 0.121\n",
      "[2,  1400] loss: 0.088\n",
      "Finished Training\n"
     ]
    }
   ],
   "source": [
    "for epoch in range(2):  # loop over the dataset multiple times\n",
    "\n",
    "    running_loss = 0.0\n",
    "    for i, data in enumerate(cleaned_train_set, 0):\n",
    "        # get the inputs\n",
    "        inputs, labels = data\n",
    "\n",
    "        # zero the parameter gradients\n",
    "        optimizer.zero_grad()\n",
    "\n",
    "        # forward + backward + optimize\n",
    "        inputs = torch.transpose(inputs, 0, 2)\n",
    "        inputs = torch.transpose(inputs, 1, 2)\n",
    "        inputs = torch.unsqueeze(inputs, 0) #adding fake batch\n",
    "        #print(inputs.size())\n",
    "        #inputs = inputs.view(1, -1)\n",
    "        inputs = inputs.type('torch.DoubleTensor')\n",
    "        inputs = inputs.float()\n",
    "        outputs = net(inputs)\n",
    "        labels = torch.tensor([labels])\n",
    "        #print(labels)\n",
    "        #print(outputs)\n",
    "        loss = criterion(outputs, labels)\n",
    "        loss.backward()\n",
    "        optimizer.step()\n",
    "\n",
    "        # print statistics\n",
    "        running_loss += loss.item()\n",
    "        if i % 200 == 199:    # print every 200 mini-batches\n",
    "            print('[%d, %5d] loss: %.3f' %\n",
    "                  (epoch + 1, i + 1, running_loss / 2000))\n",
    "            running_loss = 0.0\n",
    "\n",
    "print('Finished Training')"
   ]
  },
  {
   "cell_type": "code",
   "execution_count": 10,
   "metadata": {},
   "outputs": [
    {
     "data": {
      "image/png": "[encoded data removed]",
      "text/plain": [
       "<Figure size 432x288 with 1 Axes>"
      ]
     },
     "metadata": {
      "needs_background": "light"
     },
     "output_type": "display_data"
    },
    {
     "name": "stdout",
     "output_type": "stream",
     "text": [
      "   32    27    23    22\n"
     ]
    }
   ],
   "source": [
    "def imshow(img):\n",
    "    img = img / 2 + 0.5     # unnormalize\n",
    "    npimg = img.numpy()\n",
    "    plt.imshow(np.transpose(npimg, (1, 2, 0)))\n",
    "    plt.show()\n",
    "\n",
    "\n",
    "# get some random training images\n",
    "dataiter = iter(trainloader)\n",
    "images, labels = dataiter.next()\n",
    "images = torch.transpose(images, 1, 3)\n",
    "images = torch.transpose(images, 2, 3)\n",
    "\n",
    "# show images\n",
    "imshow(torchvision.utils.make_grid(images))\n",
    "# print labels\n",
    "print(' '.join('%5s' % classes[labels[j]] for j in range(4)))"
   ]
  },
  {
   "cell_type": "code",
   "execution_count": 11,
   "metadata": {
    "scrolled": true
   },
   "outputs": [
    {
     "data": {
      "image/png": "[encoded data removed]",
      "text/plain": [
       "<Figure size 432x288 with 1 Axes>"
      ]
     },
     "metadata": {
      "needs_background": "light"
     },
     "output_type": "display_data"
    },
    {
     "name": "stdout",
     "output_type": "stream",
     "text": [
      "GroundTruth:     19    14    35    37\n"
     ]
    }
   ],
   "source": [
    "dataiter = iter(testloader)\n",
    "images, labels = dataiter.next()\n",
    "\n",
    "images = torch.transpose(images, 1, 3)\n",
    "images = torch.transpose(images, 2, 3)\n",
    "\n",
    "# print images\n",
    "imshow(torchvision.utils.make_grid(images))\n",
    "print('GroundTruth: ', ' '.join('%5s' % classes[labels[j]] for j in range(4)))"
   ]
  },
  {
   "cell_type": "markdown",
   "metadata": {},
   "source": [
    "# Testing"
   ]
  },
  {
   "cell_type": "code",
   "execution_count": 12,
   "metadata": {},
   "outputs": [
    {
     "name": "stdout",
     "output_type": "stream",
     "text": [
      "Accuracy of the network on the test images: 82 %\n"
     ]
    }
   ],
   "source": [
    "correct = 0\n",
    "total = 0\n",
    "with torch.no_grad():\n",
    "    for data in testloader:\n",
    "        images, labels = data\n",
    "        \n",
    "        #modifications\n",
    "        #print(images.size())\n",
    "        images = torch.transpose(images, 1, 3)\n",
    "        #print(images.size())\n",
    "        images = torch.transpose(images, 2, 3)\n",
    "        #print(images.size())\n",
    "        #labels = torch.tensor([labels])\n",
    "        \n",
    "        images = images.type('torch.DoubleTensor')\n",
    "        images = images.float()\n",
    "        \n",
    "        outputs = net(images)\n",
    "        _, predicted = torch.max(outputs.data, 1)\n",
    "        total += labels.size(0)\n",
    "        correct += (predicted == labels).sum().item()\n",
    "\n",
    "print('Accuracy of the network on the test images: %d %%' % (\n",
    "    100 * correct / total))"
   ]
  },
  {
   "cell_type": "raw",
   "metadata": {},
   "source": [
    "The accuracy seems pretty good. Considering that we have 38 classes, the expected accuracy from a random classifier would be around 2.6%.\n",
    "Let's have a look on the accuracy for each class."
   ]
  },
  {
   "cell_type": "code",
   "execution_count": 13,
   "metadata": {
    "scrolled": true
   },
   "outputs": [
    {
     "name": "stdout",
     "output_type": "stream",
     "text": [
      "Accuracy of     0 : 100 %\n",
      "Accuracy of     1 : 100 %\n",
      "Accuracy of     2 : 33 %\n",
      "Accuracy of     3 : 100 %\n",
      "Accuracy of     4 : 100 %\n",
      "Accuracy of     5 : 100 %\n",
      "Accuracy of     6 : 100 %\n",
      "Accuracy of     7 : 100 %\n",
      "Accuracy of     8 : 71 %\n",
      "Accuracy of     9 : 100 %\n",
      "Accuracy of    10 : 100 %\n",
      "Accuracy of    11 : 100 %\n",
      "Accuracy of    12 : 100 %\n",
      "Accuracy of    13 : 100 %\n",
      "Accuracy of    14 : 100 %\n",
      "Accuracy of    15 : 100 %\n",
      "Accuracy of    16 : 100 %\n",
      "Accuracy of    17 : 100 %\n",
      "Accuracy of    18 : 100 %\n",
      "Accuracy of    19 : 33 %\n",
      "Accuracy of    20 :  0 %\n",
      "Accuracy of    21 : 25 %\n",
      "Accuracy of    22 : 45 %\n",
      "Accuracy of    23 : 100 %\n",
      "Accuracy of    24 : 100 %\n",
      "Accuracy of    25 :  0 %\n",
      "Accuracy of    26 : 100 %\n",
      "Accuracy of    27 :  0 %\n",
      "Accuracy of    28 : 100 %\n",
      "Accuracy of    29 : 100 %\n",
      "Accuracy of    30 : 100 %\n",
      "Accuracy of    31 : 80 %\n",
      "Accuracy of    32 : 100 %\n",
      "Accuracy of    33 : 100 %\n",
      "Accuracy of    34 : 100 %\n",
      "Accuracy of    35 : 100 %\n",
      "Accuracy of    36 :  0 %\n",
      "Accuracy of    37 : 100 %\n"
     ]
    }
   ],
   "source": [
    "class_correct = list(0. for i in range(38))\n",
    "class_total = list(0. for i in range(38))\n",
    "with torch.no_grad():\n",
    "    for data in testloader:\n",
    "        images, labels = data\n",
    "        \n",
    "        #modifications\n",
    "        images = torch.transpose(images, 1, 3)\n",
    "        images = torch.transpose(images, 2, 3)\n",
    "        #labels = torch.tensor([labels])\n",
    "        \n",
    "        images = images.type('torch.DoubleTensor')\n",
    "        images = images.float()\n",
    "        \n",
    "        outputs = net(images)\n",
    "        _, predicted = torch.max(outputs, 1)\n",
    "        c = (predicted == labels).squeeze()\n",
    "\n",
    "        if(c.size()== torch.Size([4])):\n",
    "            for i in range(4):\n",
    "                label = labels[i]\n",
    "                class_correct[label] += c[i].item()\n",
    "                class_total[label] += 1\n",
    "\n",
    "for i in range(38):\n",
    "    print('Accuracy of %5s : %2d %%' % (\n",
    "        classes[i], 100 * class_correct[i] / class_total[i] if (class_total[i] != 0) else -1))"
   ]
  },
  {
   "cell_type": "markdown",
   "metadata": {},
   "source": [
    "# testing on new images"
   ]
  },
  {
   "cell_type": "raw",
   "metadata": {},
   "source": [
    "Let's get some images from our database and test the neural network on them.\n",
    "Let's first recreate our label encoder."
   ]
  },
  {
   "cell_type": "code",
   "execution_count": 14,
   "metadata": {},
   "outputs": [],
   "source": [
    "df = pd.read_csv(\"C:/Users/Qnouro/Desktop/Programming/Scrapper/leavesDatabase/leaf.csv\", \n",
    "                  names = [\"image array\", \"type 1\", \"type2\"])"
   ]
  },
  {
   "cell_type": "code",
   "execution_count": 15,
   "metadata": {
    "scrolled": true
   },
   "outputs": [
    {
     "name": "stderr",
     "output_type": "stream",
     "text": [
      "c:\\users\\qnouro\\appdata\\local\\programs\\python\\python36\\lib\\site-packages\\sklearn\\preprocessing\\_encoders.py:368: FutureWarning: The handling of integer data will change in version 0.22. Currently, the categories are determined based on the range [0, max(values)], while in the future they will be determined based on the unique values.\n",
      "If you want the future behaviour and silence this warning, you can specify \"categories='auto'\".\n",
      "In case you used a LabelEncoder before this OneHotEncoder to convert the categories to integers, then you can now use the OneHotEncoder directly.\n",
      "  warnings.warn(msg, FutureWarning)\n"
     ]
    }
   ],
   "source": [
    "#One Hot Encoding\n",
    "from sklearn.preprocessing import LabelEncoder, OneHotEncoder\n",
    "\n",
    "df.dropna(inplace=True)\n",
    "\n",
    "data = df['type 1']\n",
    "\n",
    "values = np.array(data)\n",
    "# integer encode\n",
    "label_encoder = LabelEncoder()\n",
    "integer_encoded = label_encoder.fit_transform(values)\n",
    "# binary encode\n",
    "onehot_encoder = OneHotEncoder(sparse=False)\n",
    "integer_encoded = integer_encoded.reshape(len(integer_encoded), 1)\n",
    "onehot_encoded = onehot_encoder.fit_transform(integer_encoded)\n",
    "# invert first example\n",
    "inverted = label_encoder.inverse_transform([np.argmax(onehot_encoded[0, :])])\n",
    "inverted = label_encoder.inverse_transform([32])\n"
   ]
  },
  {
   "cell_type": "markdown",
   "metadata": {},
   "source": [
    "# Manually testing"
   ]
  },
  {
   "cell_type": "code",
   "execution_count": 16,
   "metadata": {
    "scrolled": false
   },
   "outputs": [
    {
     "name": "stdout",
     "output_type": "stream",
     "text": [
      "expected : aceraceae\n",
      "predicted : hamamelidaceae\n",
      "\n",
      "expected : magnoliaceae\n",
      "predicted : tetrameristaceae\n",
      "\n",
      "expected : bombacaceae\n",
      "predicted : burseraceae\n",
      "\n",
      "expected : rubiaceae\n",
      "predicted : acanthaceae\n",
      "\n",
      "expected : verbenaceae\n",
      "predicted : rubiaceae\n",
      "\n",
      "expected : malvaceae\n",
      "predicted : menispermaceae\n",
      "\n",
      "expected : aceraceae\n",
      "predicted : acanthaceae\n",
      "\n",
      "expected : annonaceae\n",
      "predicted : annonaceae\n",
      "\n",
      "expected : malpighiaceae\n",
      "predicted : sapindaceae\n",
      "\n",
      "expected : actinidiaceae\n",
      "predicted : annonaceae\n",
      "\n",
      "expected : aceraceae\n",
      "predicted : acanthaceae\n",
      "\n",
      "expected : aceraceae\n",
      "predicted : burseraceae\n",
      "\n",
      "expected : rubiaceae\n",
      "predicted : hamamelidaceae\n",
      "\n",
      "expected : aceraceae\n",
      "predicted : annonaceae\n",
      "\n",
      "expected : malvaceae\n",
      "predicted : fagaceae\n",
      "\n",
      "expected : aceraceae\n",
      "predicted : phytolaccaceae\n",
      "\n",
      "expected : hamamelidaceae\n",
      "predicted : aceraceae\n",
      "\n",
      "expected : tiliaceae\n",
      "predicted : fagaceae\n",
      "\n",
      "expected : magnoliaceae\n",
      "predicted : rubiaceae\n",
      "\n",
      "expected : moraceae \n",
      "predicted : apocynaceae\n",
      "\n"
     ]
    }
   ],
   "source": [
    "import random\n",
    "import cv2\n",
    "\n",
    "random.seed(10)\n",
    "random_list = [random.randint(0, len(df.iloc[:, 1:2].values)) for _ in range(20)]\n",
    "\n",
    "\n",
    "img_path = \"C:/Users/Qnouro/Desktop/Programming/Scrapper/leavesDatabase/\"\n",
    "\n",
    "end_path = \".jpg\"\n",
    "\n",
    "img_array = []\n",
    "\n",
    "\n",
    "for i in random_list:\n",
    "    ##img reading\n",
    "    read_img = cv2.imread(img_path +str(i)+ end_path)\n",
    "    #resizing\n",
    "    size = (32, 32)\n",
    "    fit_and_resized_image = cv2.resize(read_img, dsize=size, interpolation=cv2.INTER_CUBIC)\n",
    "    img_array.append(fit_and_resized_image)\n",
    "    \n",
    "    ##prediction\n",
    "    images = fit_and_resized_image\n",
    "    images = torch.tensor(images)\n",
    "    #modifications\n",
    "    images = torch.transpose(images, 0, 2)\n",
    "    images = torch.transpose(images, 1, 2)\n",
    "    images = torch.unsqueeze(images, 0) #adding fake batch\n",
    "    images = images.type('torch.DoubleTensor')\n",
    "    images = images.float()\n",
    "\n",
    "    outputs = net(images)\n",
    "    _, predicted = torch.max(outputs.data, 1)\n",
    "    ##decoding label\n",
    "    prediction_label = label_encoder.inverse_transform([predicted])[0]\n",
    "\n",
    "    print(f\"expected : {df.iloc[i, 1:2].values[0]}\")\n",
    "    print(f\"predicted : {prediction_label}\\n\")"
   ]
  },
  {
   "cell_type": "raw",
   "metadata": {},
   "source": [
    "It seems like the predictions aren't as good as expected. This might be due to the way we retrieve our data."
   ]
  }
 ],
 "metadata": {
  "kernelspec": {
   "display_name": "Python 3",
   "language": "python",
   "name": "python3"
  },
  "language_info": {
   "codemirror_mode": {
    "name": "ipython",
    "version": 3
   },
   "file_extension": ".py",
   "mimetype": "text/x-python",
   "name": "python",
   "nbconvert_exporter": "python",
   "pygments_lexer": "ipython3",
   "version": "3.6.8"
  }
 },
 "nbformat": 4,
 "nbformat_minor": 2
}
