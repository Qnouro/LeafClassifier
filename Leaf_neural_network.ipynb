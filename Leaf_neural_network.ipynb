{
 "cells": [
  {
   "cell_type": "code",
   "execution_count": 1,
   "metadata": {},
   "outputs": [],
   "source": [
    "%matplotlib inline"
   ]
  },
  {
   "cell_type": "code",
   "execution_count": 2,
   "metadata": {},
   "outputs": [],
   "source": [
    "import pandas as pd\n",
    "import numpy as np\n",
    "import matplotlib.pyplot as plt\n",
    "import torch "
   ]
  },
  {
   "cell_type": "markdown",
   "metadata": {},
   "source": [
    "# Importing the database"
   ]
  },
  {
   "cell_type": "code",
   "execution_count": 3,
   "metadata": {
    "scrolled": false
   },
   "outputs": [],
   "source": [
    "df = pd.read_pickle(\"preprocessedLeafDB.pkl\")"
   ]
  },
  {
   "cell_type": "code",
   "execution_count": 4,
   "metadata": {},
   "outputs": [],
   "source": [
    "msk = np.random.rand(len(df)) < 0.8\n",
    "\n",
    "trainset = df[msk]\n",
    "\n",
    "testset = df[~msk]"
   ]
  },
  {
   "cell_type": "code",
   "execution_count": 5,
   "metadata": {},
   "outputs": [],
   "source": [
    "def splitter(trainset, testset):\n",
    "    testvalues = (testset.values.tolist())\n",
    "\n",
    "    cleaned_test_set = []\n",
    "    temp = trainset.values.tolist()\n",
    "    #i = 0\n",
    "    for i in range(len(testset)):\n",
    "        try:\n",
    "            tenseur = torch.tensor(testvalues[i][0]/255)\n",
    "            classification = list.index(testvalues[i][1:38], 1)\n",
    "            cleaned_test_set.append((tenseur, classification))\n",
    "        except:\n",
    "            print(\"img not segmented.\")\n",
    "\n",
    "    trainvalues = (trainset.values.tolist())\n",
    "    cleaned_train_set = []\n",
    "    for i in range(len(trainset)):\n",
    "        try:\n",
    "            tenseur = torch.tensor(trainvalues[i][0]/255)\n",
    "            classification = list.index(trainvalues[i][1:38], 1)\n",
    "            cleaned_train_set.append((tenseur, classification))\n",
    "        except:\n",
    "            print(\"img not segmented.\")\n",
    "    return cleaned_train_set, cleaned_test_set\n",
    "\n"
   ]
  },
  {
   "cell_type": "code",
   "execution_count": 6,
   "metadata": {},
   "outputs": [],
   "source": [
    "cleaned_train_set, cleaned_test_set = splitter(trainset, testset)"
   ]
  },
  {
   "cell_type": "code",
   "execution_count": 7,
   "metadata": {},
   "outputs": [],
   "source": [
    "import torchvision\n",
    "from torchvision.transforms import transforms"
   ]
  },
  {
   "cell_type": "code",
   "execution_count": 8,
   "metadata": {},
   "outputs": [],
   "source": [
    "transform = transforms.Compose(\n",
    "    [transforms.ToTensor(),\n",
    "     transforms.Normalize((0.5, 0.5, 0.5), (0.5, 0.5, 0.5))])\n",
    "\n",
    "trainloader = torch.utils.data.DataLoader(cleaned_train_set, batch_size=4,\n",
    "                                          shuffle=True, num_workers=2)\n",
    "\n",
    "testloader = torch.utils.data.DataLoader(cleaned_test_set, batch_size=4,\n",
    "                                         shuffle=False, num_workers=2)\n",
    "\n",
    "classes = ('0', '1','2', '3', '4', '5', '6', '7', '8', '9', '10', '11','12', '13', '14', '15', '16', '17', '18', '19', '20',\n",
    "           '21','22', '23', '24', '25', '26', '27', '28', '29', '30', '31','32', '33', '34', '36')\n"
   ]
  },
  {
   "cell_type": "markdown",
   "metadata": {},
   "source": [
    "# Creating the neural network's architecture"
   ]
  },
  {
   "cell_type": "code",
   "execution_count": 9,
   "metadata": {},
   "outputs": [],
   "source": [
    "import torch.nn as nn\n",
    "import torch.nn.functional as F\n",
    "\n",
    "\n",
    "class Net(nn.Module):\n",
    "    def __init__(self):\n",
    "        super(Net, self).__init__()\n",
    "        self.conv1 = nn.Conv2d(3, 1, 5)\n",
    "        self.pool = nn.MaxPool2d(2, 2)\n",
    "        self.conv2 = nn.Conv2d(1, 16, 5)\n",
    "        self.fc1 = nn.Linear(16*47*47, 120)\n",
    "        self.fc2 = nn.Linear(120, 84)\n",
    "        self.fc3 = nn.Linear(84, 37)\n",
    "\n",
    "    def forward(self, x):\n",
    "        x = self.pool(F.relu(self.conv1(x)))\n",
    "        x = self.pool(F.relu(self.conv2(x)))\n",
    "        x = x.view(-1, 16*47*47)\n",
    "        x = F.relu(self.fc1(x))\n",
    "        x = F.relu(self.fc2(x))\n",
    "        x = self.fc3(x)\n",
    "        return x\n",
    "\n",
    "\n",
    "net = Net()\n"
   ]
  },
  {
   "cell_type": "code",
   "execution_count": 10,
   "metadata": {},
   "outputs": [],
   "source": [
    "import torch.optim as optim\n",
    "\n",
    "criterion = nn.CrossEntropyLoss()\n",
    "optimizer = optim.SGD(net.parameters(), lr=0.001, momentum=0.9)"
   ]
  },
  {
   "cell_type": "markdown",
   "metadata": {},
   "source": [
    "# Training"
   ]
  },
  {
   "cell_type": "code",
   "execution_count": 19,
   "metadata": {
    "scrolled": true
   },
   "outputs": [
    {
     "name": "stdout",
     "output_type": "stream",
     "text": [
      "[1,   200] loss: 0.013\n",
      "[1,   400] loss: 0.022\n",
      "[1,   600] loss: 0.042\n",
      "[1,   800] loss: 0.011\n",
      "[1,  1000] loss: 0.000\n",
      "[1,  1200] loss: 0.000\n",
      "[2,   200] loss: 0.000\n",
      "[2,   400] loss: 0.005\n",
      "[2,   600] loss: 0.003\n",
      "[2,   800] loss: 0.001\n",
      "[2,  1000] loss: 0.000\n",
      "[2,  1200] loss: 0.000\n",
      "Finished Training\n"
     ]
    }
   ],
   "source": [
    "for epoch in range(2):  # loop over the dataset multiple times\n",
    "\n",
    "    running_loss = 0.0\n",
    "    for i, data in enumerate(cleaned_train_set, 0):\n",
    "        # get the inputs\n",
    "        inputs, labels = data\n",
    "\n",
    "        # zero the parameter gradients\n",
    "        optimizer.zero_grad()\n",
    "\n",
    "        # forward + backward + optimize\n",
    "        inputs = torch.transpose(inputs, 0, 2)\n",
    "        inputs = torch.transpose(inputs, 1, 2)\n",
    "        inputs = torch.unsqueeze(inputs, 0) #adding fake batch\n",
    "        #print(inputs.size())\n",
    "        #inputs = inputs.view(1, -1)\n",
    "        inputs = inputs.type('torch.DoubleTensor')\n",
    "        inputs = inputs.float()\n",
    "        outputs = net(inputs)\n",
    "        labels = torch.tensor([labels])\n",
    "        #print(labels)\n",
    "        #print(outputs)\n",
    "        loss = criterion(outputs, labels)\n",
    "        loss.backward()\n",
    "        optimizer.step()\n",
    "\n",
    "        # print statistics\n",
    "        running_loss += loss.item()\n",
    "        if i % 200 == 199:    # print every 200 mini-batches\n",
    "            print('[%d, %5d] loss: %.3f' %\n",
    "                  (epoch + 1, i + 1, running_loss / 2000))\n",
    "            running_loss = 0.0\n",
    "\n",
    "print('Finished Training')"
   ]
  },
  {
   "cell_type": "code",
   "execution_count": 12,
   "metadata": {},
   "outputs": [
    {
     "data": {
      "image/png": "[encoded data removed]",
      "text/plain": [
       "<Figure size 432x288 with 1 Axes>"
      ]
     },
     "metadata": {
      "needs_background": "light"
     },
     "output_type": "display_data"
    },
    {
     "name": "stdout",
     "output_type": "stream",
     "text": [
      "    4    27    27    30\n"
     ]
    }
   ],
   "source": [
    "def imshow(img):\n",
    "    img = img / 2 + 0.5     # unnormalize\n",
    "    npimg = img.numpy()\n",
    "    plt.imshow(np.transpose(npimg, (1, 2, 0)))\n",
    "    plt.show()\n",
    "\n",
    "\n",
    "# get some random training images\n",
    "dataiter = iter(trainloader)\n",
    "images, labels = dataiter.next()\n",
    "images = torch.transpose(images, 1, 3)\n",
    "images = torch.transpose(images, 2, 3)\n",
    "\n",
    "# show images\n",
    "imshow(torchvision.utils.make_grid(images))\n",
    "# print labels\n",
    "print(' '.join('%5s' % classes[labels[j]] for j in range(4)))"
   ]
  },
  {
   "cell_type": "code",
   "execution_count": 13,
   "metadata": {
    "scrolled": true
   },
   "outputs": [
    {
     "data": {
      "image/png": "[encoded data removed]",
      "text/plain": [
       "<Figure size 432x288 with 1 Axes>"
      ]
     },
     "metadata": {
      "needs_background": "light"
     },
     "output_type": "display_data"
    },
    {
     "name": "stdout",
     "output_type": "stream",
     "text": [
      "GroundTruth:      9     6    21    24\n"
     ]
    }
   ],
   "source": [
    "dataiter = iter(testloader)\n",
    "images, labels = dataiter.next()\n",
    "\n",
    "images = torch.transpose(images, 1, 3)\n",
    "images = torch.transpose(images, 2, 3)\n",
    "\n",
    "# print images\n",
    "imshow(torchvision.utils.make_grid(images))\n",
    "print('GroundTruth: ', ' '.join('%5s' % classes[labels[j]] for j in range(4)))"
   ]
  },
  {
   "cell_type": "markdown",
   "metadata": {},
   "source": [
    "# Testing"
   ]
  },
  {
   "cell_type": "code",
   "execution_count": 20,
   "metadata": {},
   "outputs": [
    {
     "name": "stdout",
     "output_type": "stream",
     "text": [
      "Accuracy of the network on the test images: 99 %\n"
     ]
    }
   ],
   "source": [
    "correct = 0\n",
    "total = 0\n",
    "with torch.no_grad():\n",
    "    for data in testloader:\n",
    "        images, labels = data\n",
    "        \n",
    "        #modifications\n",
    "        #print(images.size())\n",
    "        images = torch.transpose(images, 1, 3)\n",
    "        #print(images.size())\n",
    "        images = torch.transpose(images, 2, 3)\n",
    "        #print(images.size())\n",
    "        #labels = torch.tensor([labels])\n",
    "        \n",
    "        images = images.type('torch.DoubleTensor')\n",
    "        images = images.float()\n",
    "        \n",
    "        outputs = net(images)\n",
    "        _, predicted = torch.max(outputs.data, 1)\n",
    "        total += labels.size(0)\n",
    "        correct += (predicted == labels).sum().item()\n",
    "\n",
    "print('Accuracy of the network on the test images: %d %%' % (\n",
    "    100 * correct / total))"
   ]
  },
  {
   "cell_type": "raw",
   "metadata": {},
   "source": [
    "The accuracy seems pretty good. Considering that we have 38 classes, the expected accuracy from a random classifier would be around 2.6%.\n",
    "Let's have a look on the accuracy for each class."
   ]
  },
  {
   "cell_type": "code",
   "execution_count": 21,
   "metadata": {
    "scrolled": true
   },
   "outputs": [
    {
     "name": "stdout",
     "output_type": "stream",
     "text": [
      "Accuracy of     0 : 100 %\n",
      "Accuracy of     1 : 90 %\n",
      "Accuracy of     2 : 100 %\n",
      "Accuracy of     3 : 100 %\n",
      "Accuracy of     4 : 100 %\n",
      "Accuracy of     5 : 100 %\n",
      "Accuracy of     6 : 100 %\n",
      "Accuracy of     7 : 100 %\n",
      "Accuracy of     8 : 100 %\n",
      "Accuracy of     9 : 100 %\n",
      "Accuracy of    10 : 100 %\n",
      "Accuracy of    11 : 100 %\n",
      "Accuracy of    12 : 100 %\n",
      "Accuracy of    13 : 100 %\n",
      "Accuracy of    14 : 100 %\n",
      "Accuracy of    15 : 100 %\n",
      "Accuracy of    16 : 100 %\n",
      "Accuracy of    17 : 100 %\n",
      "Accuracy of    18 : 100 %\n",
      "Accuracy of    19 : 100 %\n",
      "Accuracy of    20 : 100 %\n",
      "Accuracy of    21 : 100 %\n",
      "Accuracy of    22 : 100 %\n",
      "Accuracy of    23 : 100 %\n",
      "Accuracy of    24 : 100 %\n",
      "Accuracy of    25 : 100 %\n",
      "Accuracy of    26 : 100 %\n",
      "Accuracy of    27 : 100 %\n",
      "Accuracy of    28 : 100 %\n",
      "Accuracy of    29 : 100 %\n",
      "Accuracy of    30 : 100 %\n",
      "Accuracy of    31 : 100 %\n",
      "Accuracy of    32 : 100 %\n",
      "Accuracy of    33 : 100 %\n",
      "Accuracy of    34 : 100 %\n"
     ]
    }
   ],
   "source": [
    "class_correct = list(0. for i in range(38))\n",
    "class_total = list(0. for i in range(38))\n",
    "with torch.no_grad():\n",
    "    for data in testloader:\n",
    "        images, labels = data\n",
    "        \n",
    "        #modifications\n",
    "        images = torch.transpose(images, 1, 3)\n",
    "        images = torch.transpose(images, 2, 3)\n",
    "        #labels = torch.tensor([labels])\n",
    "        \n",
    "        images = images.type('torch.DoubleTensor')\n",
    "        images = images.float()\n",
    "        \n",
    "        outputs = net(images)\n",
    "        _, predicted = torch.max(outputs, 1)\n",
    "        c = (predicted == labels).squeeze()\n",
    "\n",
    "        if(c.size()== torch.Size([4])):\n",
    "            for i in range(4):\n",
    "                label = labels[i]\n",
    "                class_correct[label] += c[i].item()\n",
    "                class_total[label] += 1\n",
    "\n",
    "for i in range(35):\n",
    "    print('Accuracy of %5s : %2d %%' % (\n",
    "        classes[i], 100 * class_correct[i] / class_total[i] if (class_total[i] != 0) else -1))"
   ]
  },
  {
   "cell_type": "markdown",
   "metadata": {},
   "source": [
    "# testing on new images"
   ]
  },
  {
   "cell_type": "raw",
   "metadata": {},
   "source": [
    "Let's get some images from our database and test the neural network on them.\n",
    "Let's first recreate our label encoder."
   ]
  },
  {
   "cell_type": "code",
   "execution_count": 16,
   "metadata": {},
   "outputs": [],
   "source": [
    "df_temp = pd.read_csv(\"C:/Users/Qnouro/Desktop/Programming/Scrapper/leavesDatabase/leaf.csv\", \n",
    "                  names = [\"image array\", \"type 1\", \"type2\"])"
   ]
  },
  {
   "cell_type": "code",
   "execution_count": 17,
   "metadata": {
    "scrolled": true
   },
   "outputs": [
    {
     "name": "stderr",
     "output_type": "stream",
     "text": [
      "c:\\users\\qnouro\\appdata\\local\\programs\\python\\python36\\lib\\site-packages\\sklearn\\preprocessing\\_encoders.py:368: FutureWarning: The handling of integer data will change in version 0.22. Currently, the categories are determined based on the range [0, max(values)], while in the future they will be determined based on the unique values.\n",
      "If you want the future behaviour and silence this warning, you can specify \"categories='auto'\".\n",
      "In case you used a LabelEncoder before this OneHotEncoder to convert the categories to integers, then you can now use the OneHotEncoder directly.\n",
      "  warnings.warn(msg, FutureWarning)\n"
     ]
    }
   ],
   "source": [
    "#One Hot Encoding\n",
    "from sklearn.preprocessing import LabelEncoder, OneHotEncoder\n",
    "\n",
    "df_temp.dropna(inplace=True)\n",
    "\n",
    "data = df_temp['type 1']\n",
    "\n",
    "values = np.array(data)\n",
    "# integer encode\n",
    "label_encoder = LabelEncoder()\n",
    "integer_encoded = label_encoder.fit_transform(values)\n",
    "# binary encode\n",
    "onehot_encoder = OneHotEncoder(sparse=False)\n",
    "integer_encoded = integer_encoded.reshape(len(integer_encoded), 1)\n",
    "onehot_encoded = onehot_encoder.fit_transform(integer_encoded)\n",
    "# invert first example\n",
    "inverted = label_encoder.inverse_transform([np.argmax(onehot_encoded[0, :])])\n",
    "inverted = label_encoder.inverse_transform([32])\n"
   ]
  },
  {
   "cell_type": "markdown",
   "metadata": {},
   "source": [
    "# Manually testing"
   ]
  },
  {
   "cell_type": "code",
   "execution_count": 22,
   "metadata": {},
   "outputs": [
    {
     "name": "stdout",
     "output_type": "stream",
     "text": [
      "expected : leguminosae \n",
      "predicted : leguminosae \n",
      "\n",
      "expected : bombacaceae\n",
      "predicted : bombacaceae\n",
      "\n",
      "expected : hamamelidaceae\n",
      "predicted : hamamelidaceae\n",
      "\n",
      "expected : fagaceae\n",
      "predicted : fagaceae\n",
      "\n",
      "expected : phytolaccaceae\n",
      "predicted : phytolaccaceae\n",
      "\n",
      "expected : phytolaccaceae\n",
      "predicted : phytolaccaceae\n",
      "\n",
      "expected : euphorbiaceae\n",
      "predicted : euphorbiaceae\n",
      "\n",
      "expected : monimiaceae \n",
      "predicted : monimiaceae \n",
      "\n",
      "expected : alangiaceae\n",
      "predicted : alangiaceae\n",
      "\n",
      "expected : acanthaceae\n",
      "predicted : acanthaceae\n",
      "\n",
      "expected : aceraceae \n",
      "predicted : aceraceae \n",
      "\n",
      "expected : malvaceae\n",
      "predicted : malvaceae\n",
      "\n",
      "expected : menispermaceae\n",
      "predicted : menispermaceae\n",
      "\n",
      "expected : araliaceae\n",
      "predicted : araliaceae\n",
      "\n",
      "expected : phytolaccaceae\n",
      "predicted : phytolaccaceae\n",
      "\n",
      "expected : aceraceae\n",
      "predicted : aceraceae\n",
      "\n",
      "expected : menispermaceae\n",
      "predicted : menispermaceae\n",
      "\n",
      "expected : acanthaceae\n",
      "predicted : acanthaceae\n",
      "\n",
      "expected : hamamelidaceae\n",
      "predicted : hamamelidaceae\n",
      "\n",
      "expected : proteaceae\n",
      "predicted : proteaceae\n",
      "\n"
     ]
    }
   ],
   "source": [
    "import random\n",
    "import cv2\n",
    "\n",
    "random.seed(20)\n",
    "random_list = [random.randint(0, len(df.iloc[:, 1:2].values)) for _ in range(20)]\n",
    "\n",
    "\n",
    "randomizer = []\n",
    "randomizer_labels = []\n",
    "for item in random_list:\n",
    "    try:\n",
    "        randomizer.append(df[\"img\"][item])\n",
    "        randomizer_labels.append(df.iloc[1:38].values)\n",
    "    except:\n",
    "        input(\"out of range\")\n",
    "        \n",
    "random_list_bool = [False for i in range(len(df))]\n",
    "for index in random_list:\n",
    "    random_list_bool[index] = True\n",
    "\n",
    "manual_test = df[random_list_bool]\n",
    "\n",
    "cleaned_test, _ = splitter(manual_test, manual_test)\n",
    "\n",
    "        \n",
    "with torch.no_grad():\n",
    "    #for index, image in zip(random_list, randomizer):\n",
    "        ###img reading\n",
    "        #read_img = cv2.imread(img_path +str(i)+ end_path)\n",
    "        ##resizing\n",
    "        #size = (200, 200)\n",
    "        #fit_and_resized_image = cv2.resize(read_img, dsize=size, interpolation=cv2.INTER_CUBIC)\n",
    "        #img_array.append(fit_and_resized_image)\n",
    "        #fit_and_resized_image = \n",
    "\n",
    "    for data in cleaned_test:\n",
    "        image, label = data\n",
    "        ##prediction\n",
    "        images = image\n",
    "        #modifications\n",
    "        images = torch.transpose(images, 0, 2)\n",
    "        images = torch.transpose(images, 1, 2)\n",
    "        images = torch.unsqueeze(images, 0) #adding fake batch\n",
    "        images = images.type('torch.DoubleTensor')\n",
    "        images = images.float()\n",
    "\n",
    "        outputs = net(images)\n",
    "        _, predicted = torch.max(outputs.data, 1)\n",
    "        ##decoding label\n",
    "        prediction_label = label_encoder.inverse_transform([predicted])[0]\n",
    "        #expected_label = label_encoder.inverse_transform([list.index(df.iloc[index, 1:36].tolist(), 1)])[0]\n",
    "        expected_label = label_encoder.inverse_transform([label])[0]\n",
    "\n",
    "        print(f\"expected : {expected_label}\")\n",
    "        print(f\"predicted : {prediction_label}\\n\")"
   ]
  },
  {
   "cell_type": "raw",
   "metadata": {},
   "source": [
    "It seems like the predictions aren't as good as expected. This might be due to the way we retrieve our data."
   ]
  },
  {
   "cell_type": "code",
   "execution_count": null,
   "metadata": {},
   "outputs": [],
   "source": [
    "torch.all(torch.eq(cleaned_test[0][0], cleaned_test[1][0]))"
   ]
  },
  {
   "cell_type": "code",
   "execution_count": null,
   "metadata": {},
   "outputs": [],
   "source": [
    "len(manual_test)"
   ]
  }
 ],
 "metadata": {
  "kernelspec": {
   "display_name": "Python 3",
   "language": "python",
   "name": "python3"
  },
  "language_info": {
   "codemirror_mode": {
    "name": "ipython",
    "version": 3
   },
   "file_extension": ".py",
   "mimetype": "text/x-python",
   "name": "python",
   "nbconvert_exporter": "python",
   "pygments_lexer": "ipython3",
   "version": "3.6.8"
  }
 },
 "nbformat": 4,
 "nbformat_minor": 2
}
